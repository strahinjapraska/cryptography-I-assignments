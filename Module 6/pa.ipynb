{
 "cells": [
  {
   "cell_type": "markdown",
   "metadata": {},
   "source": [
    "## Imports"
   ]
  },
  {
   "cell_type": "code",
   "execution_count": 58,
   "metadata": {},
   "outputs": [],
   "source": [
    "from gmpy2 import isqrt,mpz,invert,powmod,mul\n",
    "import numpy as np \n",
    "from math import ceil \n"
   ]
  },
  {
   "cell_type": "markdown",
   "metadata": {},
   "source": [
    "## Challenge 1 "
   ]
  },
  {
   "cell_type": "code",
   "execution_count": 88,
   "metadata": {},
   "outputs": [
    {
     "name": "stdout",
     "output_type": "stream",
     "text": [
      "True\n",
      "13407807929942597099574024998205846127479365820592393377723561443721764030073662768891111614362326998675040546094339320838419523375986027530441562135724301\n"
     ]
    }
   ],
   "source": [
    "N = mpz('17976931348623159077293051907890247336179769789423065727343008115 \\\n",
    "77326758055056206869853794492129829595855013875371640157101398586 \\\n",
    "47833778606925583497541085196591615128057575940752635007475935288 \\\n",
    "71082364994994077189561705436114947486504671101510156394068052754 \\\n",
    "0071584560878577663743040086340742855278549092581')\n",
    "\n",
    "A = isqrt(N)+1\n",
    "\n",
    "x = isqrt(A*A-N)\n",
    "    \n",
    "p = A - x \n",
    "q = A + x \n",
    "\n",
    "\n",
    "print(p*q == N)\n",
    "print(min(p,q))\n"
   ]
  },
  {
   "cell_type": "markdown",
   "metadata": {},
   "source": [
    "## Challenge 2"
   ]
  },
  {
   "cell_type": "code",
   "execution_count": 86,
   "metadata": {},
   "outputs": [
    {
     "name": "stdout",
     "output_type": "stream",
     "text": [
      "True\n",
      "25464796146996183438008816563973942229341454268524157846328581927885777969985222835143851073249573454107384461557193173304497244814071505790566593206419759\n"
     ]
    }
   ],
   "source": [
    "N =mpz('6484558428080716696628242653467722787263437207069762630604390703787 \\\n",
    "9730861808111646271401527606141756919558732184025452065542490671989 \\\n",
    "2428844841839353281972988531310511738648965962582821502504990264452 \\\n",
    "1008852816733037111422964210278402893076574586452336833570778346897 \\\n",
    "15838646088239640236866252211790085787877')\n",
    "\n",
    "N_sqrt = isqrt(N)+1\n",
    "\n",
    "for i in range(0,2**20): \n",
    "    A = N_sqrt+i\n",
    "    x = isqrt(A*A-N) \n",
    "\n",
    "    p = A - x \n",
    "    q = A + x \n",
    "\n",
    "    if(p*q == N): \n",
    "        break \n",
    "\n",
    "print(p*q==N)\n",
    "print(min(p,q))\n"
   ]
  },
  {
   "cell_type": "markdown",
   "metadata": {},
   "source": [
    "## Challenge 3"
   ]
  },
  {
   "cell_type": "markdown",
   "metadata": {},
   "source": [
    "- $A = \\frac{3p+2q}{2}$ is always a fraction so we multiply by 2 , because p, q are both primes and 3p is odd integer and 2q is even, so their sum is an odd number, therefore the fraction\n",
    "- $=> A' = 3p+2q$\n",
    "- hence when calculating p and q the end we don't divide by 3 and 2 respectively, but 6, 4 , because we divide them by 6 and 4 we also calculate x with formula $\\sqrt{A^2-24*N}$\n",
    "- since $A \\le \\sqrt{6*N}+1$, multiplying by 2 gives us $A' <= 2*\\sqrt{6*N}$ => $A' <= \\sqrt{4*6*N}+1$ (if it's $\\le \\sqrt{4*6*N}+2$ it must be $\\le \\sqrt{4*6*N}+1$)\n"
   ]
  },
  {
   "cell_type": "code",
   "execution_count": 89,
   "metadata": {},
   "outputs": [
    {
     "name": "stdout",
     "output_type": "stream",
     "text": [
      "True\n",
      "21909849592475533092273988531583955898982176093344929030099423584127212078126150044721102570957812665127475051465088833555993294644190955293613411658629209\n"
     ]
    }
   ],
   "source": [
    "N =mpz('72006226374735042527956443552558373833808445147399984182665305798191 \\\n",
    "63556901883377904234086641876639384851752649940178970835240791356868 \\\n",
    "77441155132015188279331812309091996246361896836573643119174094961348 \\\n",
    "52463970788523879939683923036467667022162701835329944324119217381272 \\\n",
    "9276147530748597302192751375739387929')\n",
    "\n",
    "A = isqrt(4*6*N)+1\n",
    "x = isqrt(mul(A,A)-24*N) \n",
    "\n",
    "\n",
    "p = (A-x)//6 \n",
    "q = (A+x)//4 \n",
    "\n",
    "\n",
    "print(p*q==N)\n",
    "print(min(p,q))"
   ]
  },
  {
   "cell_type": "markdown",
   "metadata": {},
   "source": [
    "## Challenge 4"
   ]
  },
  {
   "cell_type": "code",
   "execution_count": 18,
   "metadata": {},
   "outputs": [],
   "source": [
    "def extract_msg(chunk):\n",
    "\n",
    "    hex_chunk = hex(chunk)\n",
    "    if(hex_chunk[0:3] =='0x2'):\n",
    "        hex_msg = hex_chunk.split('00')[1]\n",
    "        return bytes.fromhex(hex_msg).decode(\"ASCII\")\n",
    "    \n",
    "    return 'error'    "
   ]
  },
  {
   "cell_type": "code",
   "execution_count": 21,
   "metadata": {},
   "outputs": [
    {
     "name": "stdout",
     "output_type": "stream",
     "text": [
      "Factoring lets us break RSA.\n"
     ]
    }
   ],
   "source": [
    "e = 65537\n",
    "\n",
    "c = mpz('22096451867410381776306561134883418017410069787892831071731839143676135600120538004282329650473509424343946219751512256465839967942889460764542040581564748988013734864120452325229320176487916666402997509188729971690526083222067771600019329260870009579993724077458967773697817571267229951148662959627934791540')\n",
    "\n",
    "N = mpz('179769313486231590772930519078902473361797697894230657273430081157732675805505620686985379449212982959585501387537164015710139858647833778606925583497541085196591615128057575940752635007475935288710823649949940771895617054361149474865046711015101563940680527540071584560878577663743040086340742855278549092581')\n",
    "\n",
    "A = isqrt(N)+1\n",
    "x = isqrt(A*A-N)\n",
    "    \n",
    "p = A-x \n",
    "q = A+x \n",
    "\n",
    "phi = (p-1)*(q-1)\n",
    "\n",
    "d = invert(e,phi)\n",
    "\n",
    "pkcs_chunk = powmod(c,d,N)\n",
    "\n",
    "m = extract_msg(pkcs_chunk)\n",
    "\n",
    "print(m)"
   ]
  }
 ],
 "metadata": {
  "kernelspec": {
   "display_name": "Python 3",
   "language": "python",
   "name": "python3"
  },
  "language_info": {
   "codemirror_mode": {
    "name": "ipython",
    "version": 3
   },
   "file_extension": ".py",
   "mimetype": "text/x-python",
   "name": "python",
   "nbconvert_exporter": "python",
   "pygments_lexer": "ipython3",
   "version": "3.11.4"
  },
  "orig_nbformat": 4
 },
 "nbformat": 4,
 "nbformat_minor": 2
}
